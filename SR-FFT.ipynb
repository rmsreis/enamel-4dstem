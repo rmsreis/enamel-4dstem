{
 "cells": [
  {
   "cell_type": "code",
   "execution_count": 1,
   "metadata": {},
   "outputs": [],
   "source": [
    "%matplotlib nbagg\n",
    "import py4DSTEM\n",
    "\n",
    "import numpy as np\n",
    "import matplotlib.pyplot as plt\n",
    "from matplotlib.patches import Rectangle\n",
    "\n",
    "from py4DSTEM.process.braggdiskdetection import get_average_probe_from_ROI, get_probe_kernel_subtrgaussian\n",
    "from py4DSTEM.process.utils import get_CoM\n",
    "from py4DSTEM.file.datastructure import DiffractionSlice, RealSlice\n",
    "from py4DSTEM.file.io import read, save\n",
    "\n",
    "from skued.image import powder_center\n",
    "from matplotlib.patches import Rectangle, Circle"
   ]
  },
  {
   "cell_type": "code",
   "execution_count": 2,
   "metadata": {},
   "outputs": [
    {
     "name": "stdout",
     "output_type": "stream",
     "text": [
      "Bin(2,2,2, 2) of outer enamel.dm4 is not a py4DSTEM file.\n",
      "Couldn't identify input, attempting to read with hyperspy...\n",
      "Warning: scan shape not detected in metadata; please check / set manually.\n"
     ]
    }
   ],
   "source": [
    "filename = 'Bin(2,2,2, 2) of outer enamel.dm4'\n",
    "datacube = py4DSTEM.file.io.read(filename)\n",
    "#filename = 'Diffraction of vacuum_256x256_50_25.dm3'\n",
    "#vacuum_data = py4DSTEM.file.io.read(filename)"
   ]
  },
  {
   "cell_type": "code",
   "execution_count": 3,
   "metadata": {},
   "outputs": [],
   "source": [
    "filename = 'Diffraction of vacuum_256x256_50_25.dm3'\n",
    "from ncempy.io import dm\n",
    "vacuum = dm.dmReader(filename)"
   ]
  },
  {
   "cell_type": "code",
   "execution_count": 4,
   "metadata": {},
   "outputs": [],
   "source": [
    "# Setting scan shapes(need the experimental scan dimensions)\n",
    "datacube.set_scan_shape(133,131)\n",
    "datacube.name = 'datacube'\n",
    "#vacuum_data.set_scan_shape(4,16)\n",
    "#vacuum_data.name = 'vacuum'"
   ]
  },
  {
   "cell_type": "code",
   "execution_count": 5,
   "metadata": {},
   "outputs": [],
   "source": [
    "#normalize datacube by vacuum probe (Paul & Roberto, please let me know if this is correct)\n",
    "vacuum_sum=np.sum(vacuum['data'])\n",
    "normalied_data=datacube.data/vacuum_sum"
   ]
  },
  {
   "cell_type": "code",
   "execution_count": null,
   "metadata": {},
   "outputs": [],
   "source": [
    "aveDP = np.average(normalied_data, axis=(0,1))\n",
    "realimage=np.average(normalied_data, axis=(2,3))\n",
    "\n",
    "fig,ax=plt.subplots(1,2,figsize=(8,4))\n",
    "ax[0].matshow(realimage)\n",
    "ax[1].matshow(np.sqrt(aveDP), cmap=plt.cm.inferno)\n",
    "ax[0].axis('off')\n",
    "ax[1].axis('off')\n",
    "plt.show()"
   ]
  },
  {
   "cell_type": "code",
   "execution_count": null,
   "metadata": {},
   "outputs": [],
   "source": [
    "#masked FFT\n",
    "\n",
    "#find center points of mask\n",
    "ic, jc = powder_center(aveDP)\n",
    "\n",
    "x1,y1 = 99,186\n",
    "\n",
    "theta = np.radians(60)\n",
    "c, s = np.cos(theta), np.sin(theta)\n",
    "R = np.array(((c, -s), (s, c)))\n",
    "\n",
    "v=np.array([[x1-jc],[y1-ic]])\n",
    "v=np.dot(v.T,R).T\n",
    "\n",
    "x2=v[0,0]+jc\n",
    "y2=v[1,0]+ic\n",
    "\n",
    "#make mask\n",
    "x, y = np.indices((aveDP.shape[0], aveDP.shape[1]))\n",
    "mask_circle1 = (y - x1) ** 2 + (x - y1) ** 2 < 20 ** 2\n",
    "mask_circle2 = (y - x2) ** 2 + (x - y2) ** 2 < 20 ** 2\n",
    "combine_mask = np.logical_or(mask_circle1, mask_circle2)\n",
    "\n",
    "#extract data in map \n",
    "two_spots=np.zeros((normalied_data.shape[0],normalied_data.shape[1]))\n",
    "\n",
    "for i in range(0,aveDP.shape[0]):\n",
    "    for j in range(0,aveDP.shape[1]): \n",
    "        if combine_mask[i,j]: \n",
    "            two_spots=two_spots+normalied_data[:,:,i,j] \n",
    "\n",
    "                        \n",
    "#take fft\n",
    "fft_two_spots_raw=np.fft.fft2(two_spots)\n",
    "fft_image_raw_shifted = np.fft.fftshift(fft_two_spots_raw)\n",
    "\n",
    "\n",
    "#plot\n",
    "fig,ax = plt.subplots(2,2,figsize=(8,8))\n",
    "ax[0,0].matshow(np.sqrt(aveDP), cmap = plt.cm.magma)\n",
    "ax[0,0].scatter(x1, y1, color='b')\n",
    "ax[0,0].scatter(x2, y2, color='b')\n",
    "\n",
    "circ = Circle((x1,y1),20,fill=False,color='b')\n",
    "ax[0,0].add_patch(circ)\n",
    "\n",
    "circ = Circle((x2,y2),20,fill=False,color='b')\n",
    "ax[0,0].add_patch(circ)\n",
    "\n",
    "#plot mask to check it aligns \n",
    "ax[0,0].imshow(combine_mask, alpha=0.3)\n",
    "\n",
    "ax[0,1].imshow(two_spots, cmap=plt.cm.Blues)\n",
    "\n",
    "\n",
    "im_handle = ax[1,0].imshow(np.log10(np.abs(fft_two_spots_raw)), cmap=plt.cm.OrRd)\n",
    "#cbar = plt.colorbar(im_handle, ax=ax[0], fraction=0.046, pad=0.04)\n",
    "\n",
    "im_handle = ax[1,1].imshow(np.log10(np.abs(fft_image_raw_shifted)), cmap=plt.cm.OrRd)\n",
    "#cbar = plt.colorbar(im_handle, ax=ax[1], fraction=0.046, pad=0.04)\n",
    "\n",
    "\n",
    "ax[0,0].set_title('Diffraction Pattern + Mask')\n",
    "ax[0,1].set_title('Masked real space image')\n",
    "ax[1,0].set_title('FFT of masked image')\n",
    "ax[1,1].set_title('Corrected FFT')\n",
    "\n",
    "ax[0,0].axis('off')\n",
    "ax[0,1].axis('off')\n",
    "ax[1,0].axis('off')\n",
    "ax[1,1].axis('off')\n",
    "\n",
    "plt.show()"
   ]
  },
  {
   "cell_type": "code",
   "execution_count": null,
   "metadata": {},
   "outputs": [],
   "source": [
    "#FFT of unmasked real space image\n",
    "fft_real_raw=np.fft.fft2(realimage)\n",
    "fft_real_shifted = np.fft.fftshift(fft_real_raw)\n",
    "\n",
    "fig,ax=plt.subplots(1,2,figsize=(8,4))\n",
    "ax[0].matshow(realimage)\n",
    "#ax[0].imshow(np.log10(np.abs(fft_image_raw_shifted)), cmap=plt.cm.OrRd)\n",
    "ax[1].matshow(np.log10(np.abs(fft_real_shifted)), cmap=plt.cm.OrRd)\n",
    "ax[0].axis('off')\n",
    "ax[1].axis('off')\n",
    "plt.show()"
   ]
  },
  {
   "cell_type": "code",
   "execution_count": null,
   "metadata": {},
   "outputs": [],
   "source": [
    "#FFT of average diffraction pattern\n",
    "fft_DP_raw=np.fft.fft2(aveDP)\n",
    "fft_DP_shifted = np.fft.fftshift(fft_DP_raw)\n",
    "\n",
    "fig,ax=plt.subplots(1,2,figsize=(8,4))\n",
    "ax[0].matshow(np.sqrt(aveDP), cmap=plt.cm.inferno)\n",
    "ax[1].matshow(np.log10(np.abs(fft_DP_shifted)), cmap=plt.cm.OrRd)\n",
    "ax[0].axis('off')\n",
    "ax[1].axis('off')\n",
    "plt.show()"
   ]
  },
  {
   "cell_type": "code",
   "execution_count": null,
   "metadata": {},
   "outputs": [],
   "source": [
    "#FFT of individual diffraction pattern\n",
    "\n",
    "xa,ya = 112,37\n",
    "xb,yb = 60, 83\n",
    "xc,yc = 20, 100\n",
    "\n",
    "fft_DP_raw_1=np.fft.fft2(normalied_data[xa,ya,:,:])\n",
    "fft_DP_shifted_1 = np.fft.fftshift(fft_DP_raw_1)\n",
    "\n",
    "fft_DP_raw_2=np.fft.fft2(normalied_data[xb,yb,:,:])\n",
    "fft_DP_shifted_2 = np.fft.fftshift(fft_DP_raw_2)\n",
    "\n",
    "fft_DP_raw_3=np.fft.fft2(normalied_data[xc,yc,:,:])\n",
    "fft_DP_shifted_3 = np.fft.fftshift(fft_DP_raw_3)\n",
    "\n",
    "\n",
    "fig,ax=plt.subplots(2,2,figsize=(8,8))\n",
    "ax[0,0].matshow(np.log10(np.abs(fft_DP_shifted_1)), cmap=plt.cm.Blues)\n",
    "ax[0,1].matshow(np.log10(np.abs(fft_DP_shifted_2)), cmap=plt.cm.Reds)\n",
    "ax[1,0].matshow(np.log10(np.abs(fft_DP_shifted_3)), cmap=plt.cm.Greens)\n",
    "ax[1,1].matshow(realimage)\n",
    "\n",
    "ax[1,1].scatter(xa,ya, color=\"blue\")\n",
    "ax[1,1].scatter(xb,yb, color=\"red\")\n",
    "ax[1,1].scatter(xc,yc, color=\"green\")\n",
    "\n",
    "ax[0,0].axis('off')\n",
    "ax[0,1].axis('off')\n",
    "ax[1,0].axis('off')\n",
    "ax[1,1].axis('off')\n",
    "plt.show()"
   ]
  },
  {
   "cell_type": "code",
   "execution_count": null,
   "metadata": {},
   "outputs": [],
   "source": []
  }
 ],
 "metadata": {
  "kernelspec": {
   "display_name": "Python 3",
   "language": "python",
   "name": "python3"
  },
  "language_info": {
   "codemirror_mode": {
    "name": "ipython",
    "version": 3
   },
   "file_extension": ".py",
   "mimetype": "text/x-python",
   "name": "python",
   "nbconvert_exporter": "python",
   "pygments_lexer": "ipython3",
   "version": "3.7.4"
  }
 },
 "nbformat": 4,
 "nbformat_minor": 2
}
